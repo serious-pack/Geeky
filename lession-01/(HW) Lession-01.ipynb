{
 "cells": [
  {
   "cell_type": "markdown",
   "metadata": {},
   "source": [
    "## Практические задания"
   ]
  },
  {
   "cell_type": "markdown",
   "metadata": {},
   "source": [
    "**Задание 1.**\n",
    "\n",
    "#сохраним JSON результат в файл *.json\n",
    "\n",
    "with open('git_repos.json', 'w', encoding = 'utf-8') as f:\n",
    "    json.dump(data, f, ensure_ascii = False, indent = 4)Посмотреть документацию к API GitHub, разобраться как вывести список репозиториев для конкретного пользователя, сохранить JSON-вывод в файле *.json."
   ]
  },
  {
   "cell_type": "markdown",
   "metadata": {},
   "source": [
    "**Подключение библиотек и скриптов**"
   ]
  },
  {
   "cell_type": "code",
   "execution_count": 69,
   "metadata": {},
   "outputs": [],
   "source": [
    "import requests\n",
    "import json"
   ]
  },
  {
   "cell_type": "markdown",
   "metadata": {},
   "source": [
    "**Вспомогательные процедуры и функции**"
   ]
  },
  {
   "cell_type": "code",
   "execution_count": 70,
   "metadata": {},
   "outputs": [],
   "source": [
    "def get_git_repos(username, type = 'all', sort = 'created', direction = 'asc'):\n",
    "    \n",
    "    API_URL = 'https://api.github.com'\n",
    "    API_URL_REPOS = '/users/' + username + '/repos'\n",
    "                  \n",
    "    header = {'User-Agent':'Mozilla/5.0 (Windows NT 10.0; Win64; x64) AppleWebKit/537.36 (KHTML, like Gecko) Chrome/78.0.3904.108 Safari/537.36'}\n",
    "    appid = '00b4b952bb4b1cf8ce44a41040be4656cd530647'\n",
    "    \n",
    "    params = {'Authorization': 'token ' + appid, 'type': type, 'sort': sort, 'direction': direction}\n",
    "    \n",
    "    resp = requests.get(API_URL + API_URL_REPOS, params)\n",
    "\n",
    "    data = []\n",
    "    \n",
    "    if resp.ok:\n",
    "        data = json.loads(resp.text)\n",
    "    else:\n",
    "        print('Connection error: ', resp.text)\n",
    "        \n",
    "    return data"
   ]
  },
  {
   "cell_type": "code",
   "execution_count": 71,
   "metadata": {},
   "outputs": [],
   "source": [
    "data = get_git_repos('kubernetes')\n",
    "\n",
    "#сохраним JSON результат в файл *.json\n",
    "\n",
    "with open('git_repos.json', 'w', encoding = 'utf-8') as f:\n",
    "    json.dump(data, f, ensure_ascii = False, indent = 4)"
   ]
  },
  {
   "cell_type": "markdown",
   "metadata": {},
   "source": [
    "**Задание 2.**\n",
    "\n",
    "Изучить список открытых API. Найти среди них любое, требующее авторизацию (любого типа). Выполнить запросы к нему, пройдя авторизацию. Ответ сервера записать в файл"
   ]
  },
  {
   "cell_type": "markdown",
   "metadata": {},
   "source": [
    "**Подключение библиотек и скриптов**"
   ]
  },
  {
   "cell_type": "code",
   "execution_count": 72,
   "metadata": {},
   "outputs": [],
   "source": [
    "import requests\n",
    "import json"
   ]
  },
  {
   "cell_type": "code",
   "execution_count": 73,
   "metadata": {},
   "outputs": [],
   "source": [
    "API_KEY = 'XtxSQJSJhVeS5Iyb7orqAd2n9lnwHAJFFe9uOM3p'"
   ]
  },
  {
   "cell_type": "markdown",
   "metadata": {},
   "source": [
    "**Вспомогательные процедуры и функции**"
   ]
  },
  {
   "cell_type": "code",
   "execution_count": 74,
   "metadata": {},
   "outputs": [],
   "source": [
    "def get_asteroids():\n",
    "    \n",
    "    API_URL = 'https://api.nasa.gov/neo/rest/v1/'\n",
    "    API_FNC = 'neo/browse'\n",
    "    \n",
    "    params = {'api_key': API_KEY}\n",
    "    \n",
    "    resp = requests.get(API_URL + API_FNC, params)\n",
    "    \n",
    "    t_data = json.loads(resp.text)\n",
    "    j_data = json.loads(resp.text)\n",
    "    \n",
    "    next_link = j_data['links']['next']\n",
    "    \n",
    "    lst = t_data['near_earth_objects']\n",
    "    \n",
    "    i=1\n",
    "    \n",
    "    while next_link != '' and i < 10:\n",
    "    \n",
    "        i= i+1\n",
    "        \n",
    "        resp = requests.get(next_link)\n",
    "        j_data = json.loads(resp.text)\n",
    "        \n",
    "        lst.extend(j_data['near_earth_objects'])\n",
    "        \n",
    "        next_link = j_data['links']['next']\n",
    "    \n",
    "    return lst"
   ]
  },
  {
   "cell_type": "code",
   "execution_count": 75,
   "metadata": {},
   "outputs": [],
   "source": [
    "data = get_asteroids()"
   ]
  },
  {
   "cell_type": "code",
   "execution_count": 76,
   "metadata": {},
   "outputs": [],
   "source": [
    "#сохраним JSON результат в файл *.json\n",
    "\n",
    "with open('asteroids_info.json', 'w', encoding = 'utf-8') as f:\n",
    "    json.dump(data, f, ensure_ascii = False, indent = 4)"
   ]
  },
  {
   "cell_type": "markdown",
   "metadata": {},
   "source": [
    "**Дополнительно**\n",
    "\n",
    "Сделайте 100 get запрос к ссылке (endpoint) - https://api.kanye.rest/\n",
    "Создайте словарь в питоне - пример: {'No':1, 'Joke': 'some kayne joke'}, не забиваем, что к каждой шутке прилагается номер!!)\n",
    "И сохраните в json формате, который прикрепите к pull request (вместе с кодом)."
   ]
  },
  {
   "cell_type": "markdown",
   "metadata": {},
   "source": [
    "**Подключение библиотек и скриптов**"
   ]
  },
  {
   "cell_type": "code",
   "execution_count": 77,
   "metadata": {},
   "outputs": [],
   "source": [
    "import requests\n",
    "import json"
   ]
  },
  {
   "cell_type": "code",
   "execution_count": 78,
   "metadata": {},
   "outputs": [
    {
     "data": {
      "text/plain": [
       "\"People say it's enough and I got my point across ... the point isn't across until we cross the point\""
      ]
     },
     "execution_count": 78,
     "metadata": {},
     "output_type": "execute_result"
    }
   ],
   "source": [
    "resp = requests.get('https://api.kanye.rest/')\n",
    "j_data = json.loads(resp.text)\n",
    "j_data['quote']"
   ]
  },
  {
   "cell_type": "code",
   "execution_count": 79,
   "metadata": {},
   "outputs": [],
   "source": [
    "data = {'No:' + str(a+1): json.loads(requests.get('https://api.kanye.rest/').text)['quote'] for a in range(100)}"
   ]
  },
  {
   "cell_type": "code",
   "execution_count": 81,
   "metadata": {},
   "outputs": [],
   "source": [
    "#сохраним JSON результат в файл *.json\n",
    "\n",
    "with open('jokes.json', 'w', encoding = 'utf-8') as f:\n",
    "    json.dump(data, f, ensure_ascii = False, indent = 4)"
   ]
  }
 ],
 "metadata": {
  "kernelspec": {
   "display_name": "Python 3",
   "language": "python",
   "name": "python3"
  },
  "language_info": {
   "codemirror_mode": {
    "name": "ipython",
    "version": 3
   },
   "file_extension": ".py",
   "mimetype": "text/x-python",
   "name": "python",
   "nbconvert_exporter": "python",
   "pygments_lexer": "ipython3",
   "version": "3.6.9"
  }
 },
 "nbformat": 4,
 "nbformat_minor": 4
}
