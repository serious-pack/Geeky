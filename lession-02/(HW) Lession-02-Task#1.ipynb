{
 "cells": [
  {
   "cell_type": "markdown",
   "metadata": {},
   "source": [
    "## Практические задания"
   ]
  },
  {
   "cell_type": "markdown",
   "metadata": {},
   "source": [
    "**Задание 1.**\n",
    "\n",
    "Необходимо собрать информацию о вакансиях на вводимую должность (используем input или через аргументы) с сайтов Superjob и HH. Приложение должно анализировать несколько страниц сайта (также вводим через input или аргументы). Получившийся список должен содержать в себе минимум:\n",
    "Наименование вакансии.\n",
    "Предлагаемую зарплату (отдельно минимальную и максимальную).\n",
    "Ссылку на саму вакансию.\n",
    "Сайт, откуда собрана вакансия. ### По желанию можно добавить ещё параметры вакансии (например, работодателя и расположение). Структура должна быть одинаковая для вакансий с обоих сайтов. Общий результат можно вывести с помощью dataFrame через pandas."
   ]
  },
  {
   "cell_type": "markdown",
   "metadata": {},
   "source": [
    "**Подключение библиотек и скриптов**"
   ]
  },
  {
   "cell_type": "code",
   "execution_count": 183,
   "metadata": {},
   "outputs": [],
   "source": [
    "import requests\n",
    "import json\n",
    "from bs4 import BeautifulSoup\n",
    "import lxml\n",
    "import pandas as pd"
   ]
  },
  {
   "cell_type": "markdown",
   "metadata": {},
   "source": [
    "**Вспомогательные переменные**"
   ]
  },
  {
   "cell_type": "code",
   "execution_count": 184,
   "metadata": {},
   "outputs": [],
   "source": [
    "URL_HH = 'https://hh.ru'\n",
    "URL_SJ = 'https://www.superjob.ru'\n",
    "N_PAGES = 3"
   ]
  },
  {
   "cell_type": "markdown",
   "metadata": {},
   "source": [
    "**Вспомогательные процедуры и функции**"
   ]
  },
  {
   "cell_type": "code",
   "execution_count": 220,
   "metadata": {},
   "outputs": [],
   "source": [
    "def get_vacancy_HH(vacancy_name, pages = N_PAGES):\n",
    "    \n",
    "    GET_HH_REQUEST = URL_HH + '/search/vacancy?clusters=true&enable_snippets=true&salary=&st=searchVacancy&text=' + vacancy_name\n",
    "    HEADER = {'User-Agent':'Mozilla/5.0 (Windows NT 10.0; Win64; x64) AppleWebKit/537.36 (KHTML, like Gecko) Chrome/78.0.3904.108 Safari/537.36'}\n",
    "    \n",
    "    data_list = []\n",
    "    \n",
    "    next_link = GET_HH_REQUEST\n",
    "    \n",
    "    i = 1\n",
    "    \n",
    "    while next_link != '' and i <= pages:\n",
    "        \n",
    "        i += 1\n",
    "        \n",
    "        data = requests.get(next_link, headers = HEADER)\n",
    "\n",
    "        if data.ok:\n",
    "            html = BeautifulSoup(data.text, 'lxml')\n",
    "            \n",
    "            tags = html.find_all('div', attrs={'class': 'vacancy-serp-item'})\n",
    "\n",
    "            for tag in tags:\n",
    "\n",
    "                name        = tag.find('a', attrs = {'data-qa': 'vacancy-serp__vacancy-title'}).text\n",
    "                href        = tag.find('a', attrs = {'data-qa': 'vacancy-serp__vacancy-title'})['href']\n",
    "                salary      = tag.find('span', attrs = {'data-qa': 'vacancy-serp__vacancy-compensation'})\n",
    "                salary_from = '0'\n",
    "                salary_to   = '0'\n",
    "\n",
    "                if salary:\n",
    "\n",
    "                    salary_list = salary.text.replace('\\u202f', '').split(' ')\n",
    "\n",
    "                    if 'от' in salary_list:\n",
    "                        salary_from = salary_list[salary_list.index('от') + 1]\n",
    "                    if 'до' in salary_list:\n",
    "                        salary_to = salary_list[salary_list.index('до') + 1]\n",
    "\n",
    "                    else:\n",
    "                        if '–' in salary_list:\n",
    "                            salary_to   = salary_list[salary_list.index('–') + 1]\n",
    "                            salary_from = salary_list[0]\n",
    "\n",
    "                    if salary_from == '' and salary_to == '':\n",
    "                        salary_to = salary_list[0]\n",
    "\n",
    "                salary_from = int(salary_from)\n",
    "                salary_to   = int(salary_to)\n",
    "\n",
    "                company = tag.find('div', attrs = {'class', 'vacancy-serp-item__meta-info-company'}).text.replace('\\xa0', '')\n",
    "\n",
    "                data_list.append(['HH.ru', name, href, company, salary_from, salary_to])\n",
    "                \n",
    "        #найдем следующую ссылку\n",
    "        tag = html.find('a', attrs={'data-qa': 'pager-next'})\n",
    "        \n",
    "        next_link = ''\n",
    "        \n",
    "        if tag:\n",
    "            next_link = URL_HH + tag['href']\n",
    "            \n",
    "            \n",
    "        \n",
    "    df = pd.DataFrame(data_list, columns = ['Resource', 'Name', 'link', 'Company', 'Salary (from)', 'Salary (to)'])\n",
    "        \n",
    "    return df"
   ]
  },
  {
   "cell_type": "code",
   "execution_count": 221,
   "metadata": {},
   "outputs": [],
   "source": [
    "def get_vacancy_SJ(vacancy_name,  pages = N_PAGES):\n",
    "    \n",
    "    GET_SJ_REQUEST = URL_SJ + '/vacancy/search/?keywords=' + vacancy_name\n",
    "    HEADER = {'User-Agent':'Mozilla/5.0 (Windows NT 10.0; Win64; x64) AppleWebKit/537.36 (KHTML, like Gecko) Chrome/78.0.3904.108 Safari/537.36'}\n",
    "    \n",
    "    data_list = []\n",
    "    \n",
    "    next_link = GET_SJ_REQUEST\n",
    "    \n",
    "    i = 1\n",
    "    \n",
    "    while next_link != '' and i <= pages:\n",
    "        \n",
    "        i += 1\n",
    "        \n",
    "        data = requests.get(next_link, headers = HEADER)\n",
    "\n",
    "        if data.ok:\n",
    "            html = BeautifulSoup(data.text, 'lxml')\n",
    "            \n",
    "            tags = html.find_all('div', attrs={'class': 'iJCa5 f-test-vacancy-item _1fma_ _2nteL'})\n",
    "\n",
    "            for tag in tags:\n",
    "\n",
    "                name_duty   = tag.find('div', attrs = {'class': '_1h3Zg _2rfUm _2hCDz _21a7u'})\n",
    "                name        = name_duty.find('a').text\n",
    "                \n",
    "                href        = URL_SJ + tag.find('a')['href']\n",
    "                \n",
    "                salary      = tag.find('span', attrs = {'class': '_1h3Zg _2Wp8I _2rfUm _2hCDz _2ZsgW'})\n",
    "                                \n",
    "                salary_from = '0'\n",
    "                salary_to   = '0'\n",
    "\n",
    "                if salary:\n",
    "\n",
    "                    salary_list = salary.text.replace('\\u202f', '').replace('0\\xa00', '00').replace('\\xa0', ' ').split(' ')\n",
    "                    \n",
    "                    if 'от' in salary_list:\n",
    "                        salary_from = salary_list[salary_list.index('от') + 1]\n",
    "                    if 'до' in salary_list:\n",
    "                        salary_to = salary_list[salary_list.index('до') + 1]\n",
    "\n",
    "                    else:\n",
    "                        if '—' in salary_list:\n",
    "                            salary_to   = salary_list[salary_list.index('—') + 1]\n",
    "                            salary_from = salary_list[0]##\n",
    "\n",
    "                    if salary_from == '' and salary_to == '' and salary_list[0] != 'По':\n",
    "                        salary_to = salary_list[0]\n",
    "\n",
    "                salary_from = int(salary_from)\n",
    "                salary_to   = int(salary_to)\n",
    "\n",
    "                company_duty = tag.find('span', attrs = {'class', '_1h3Zg _3Fsn4 f-test-text-vacancy-item-company-name e5P5i _2hCDz _2ZsgW _2SvHc'})\n",
    "                company = company_duty.find('a').text\n",
    "                \n",
    "                data_list.append(['SJ.ru', name, href, company, salary_from, salary_to])\n",
    "                \n",
    "        #найдем следующую ссылку\n",
    "        tag = html.find('a', attrs={'rel': 'next'})\n",
    "        \n",
    "        next_link = ''\n",
    "        \n",
    "        if tag:\n",
    "            next_link = URL_SJ + tag['href']\n",
    "            \n",
    "            \n",
    "        \n",
    "    df = pd.DataFrame(data_list, columns = ['Resource', 'Name', 'link', 'Company', 'Salary (from)', 'Salary (to)'])\n",
    "        \n",
    "    return df"
   ]
  },
  {
   "cell_type": "code",
   "execution_count": 232,
   "metadata": {},
   "outputs": [
    {
     "name": "stdout",
     "output_type": "stream",
     "text": [
      "<class 'pandas.core.frame.DataFrame'>\n",
      "Int64Index: 78 entries, 0 to 38\n",
      "Data columns (total 6 columns):\n",
      " #   Column         Non-Null Count  Dtype \n",
      "---  ------         --------------  ----- \n",
      " 0   Resource       78 non-null     object\n",
      " 1   Name           78 non-null     object\n",
      " 2   link           78 non-null     object\n",
      " 3   Company        78 non-null     object\n",
      " 4   Salary (from)  78 non-null     int64 \n",
      " 5   Salary (to)    78 non-null     int64 \n",
      "dtypes: int64(2), object(4)\n",
      "memory usage: 4.3+ KB\n"
     ]
    }
   ],
   "source": [
    "df = pd.concat([get_vacancy_SJ('уполномоченный', 2), get_vacancy_SJ('уполномоченный', 2)])\n",
    "df.info()"
   ]
  },
  {
   "cell_type": "code",
   "execution_count": 233,
   "metadata": {},
   "outputs": [
    {
     "data": {
      "text/plain": [
       "<AxesSubplot:>"
      ]
     },
     "execution_count": 233,
     "metadata": {},
     "output_type": "execute_result"
    },
    {
     "data": {
      "image/png": "[encoded data removed]",
      "text/plain": [
       "<Figure size 432x288 with 1 Axes>"
      ]
     },
     "metadata": {
      "needs_background": "light"
     },
     "output_type": "display_data"
    }
   ],
   "source": [
    "df['Salary (to)'].hist()"
   ]
  }
 ],
 "metadata": {
  "kernelspec": {
   "display_name": "Python 3",
   "language": "python",
   "name": "python3"
  },
  "language_info": {
   "codemirror_mode": {
    "name": "ipython",
    "version": 3
   },
   "file_extension": ".py",
   "mimetype": "text/x-python",
   "name": "python",
   "nbconvert_exporter": "python",
   "pygments_lexer": "ipython3",
   "version": "3.6.9"
  }
 },
 "nbformat": 4,
 "nbformat_minor": 4
}
